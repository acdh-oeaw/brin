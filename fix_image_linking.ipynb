{
 "cells": [
  {
   "cell_type": "markdown",
   "metadata": {},
   "source": [
    "# script to fix entry-image linking"
   ]
  },
  {
   "cell_type": "code",
   "execution_count": 8,
   "metadata": {
    "collapsed": true
   },
   "outputs": [],
   "source": [
    "serverpath,_ = ServerPath.objects.get_or_create(name='https://brin-iiif.acdh.oeaw.ac.at/')"
   ]
  },
  {
   "cell_type": "code",
   "execution_count": 9,
   "metadata": {
    "collapsed": true
   },
   "outputs": [],
   "source": [
    "ins = Inschrift.objects.all()"
   ]
  },
  {
   "cell_type": "code",
   "execution_count": 10,
   "metadata": {
    "collapsed": true
   },
   "outputs": [],
   "source": [
    "paths = [\n",
    "    'Brixen_2011_06_17',\n",
    "    'Brixen_2011_07_08',\n",
    "    'Brixen_2011_08_04',\n",
    "    'Brixen_2011_08_11',\n",
    "    'Brixen_2011_08_22'\n",
    "]"
   ]
  },
  {
   "cell_type": "code",
   "execution_count": 11,
   "metadata": {
    "collapsed": true
   },
   "outputs": [],
   "source": [
    "for x in ins:\n",
    "    for y in x.images.all():\n",
    "        fname = \"{}\".format(y.filename)[14:]\n",
    "        fname = \"DSC_{}\".format(fname)\n",
    "        fname = fname[:-3]\n",
    "        for z in paths:\n",
    "            try:\n",
    "                new_im, _ = Image.objects.get_or_create(\n",
    "                    filename = fname,\n",
    "                    directory = z,\n",
    "                    path = serverpath\n",
    "                )\n",
    "                x.images.add(new_im)\n",
    "            except:\n",
    "                pass\n",
    "    x.save()\n",
    "        \n",
    "        "
   ]
  },
  {
   "cell_type": "code",
   "execution_count": 12,
   "metadata": {
    "collapsed": true
   },
   "outputs": [],
   "source": [
    "images = Image.objects.filter(path__name='https://iiif.acdh.oeaw.ac.at/')"
   ]
  },
  {
   "cell_type": "code",
   "execution_count": 14,
   "metadata": {},
   "outputs": [],
   "source": [
    "for x in images:\n",
    "    x.delete()"
   ]
  },
  {
   "cell_type": "code",
   "execution_count": null,
   "metadata": {
    "collapsed": true
   },
   "outputs": [],
   "source": []
  }
 ],
 "metadata": {
  "kernelspec": {
   "display_name": "Django Shell-Plus",
   "language": "python",
   "name": "django_extensions"
  },
  "language_info": {
   "codemirror_mode": {
    "name": "ipython",
    "version": 3
   },
   "file_extension": ".py",
   "mimetype": "text/x-python",
   "name": "python",
   "nbconvert_exporter": "python",
   "pygments_lexer": "ipython3",
   "version": "3.5.3"
  }
 },
 "nbformat": 4,
 "nbformat_minor": 2
}
