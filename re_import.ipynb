{
 "cells": [
  {
   "cell_type": "code",
   "execution_count": 1,
   "metadata": {
    "collapsed": true
   },
   "outputs": [],
   "source": [
    "import pandas as pd"
   ]
  },
  {
   "cell_type": "code",
   "execution_count": null,
   "metadata": {
    "collapsed": true
   },
   "outputs": [],
   "source": [
    "file = 'legacy_data/inscriptions_inschrift_images.csv'"
   ]
  },
  {
   "cell_type": "code",
   "execution_count": null,
   "metadata": {
    "collapsed": true
   },
   "outputs": [],
   "source": [
    "df = pd.read_csv(file)"
   ]
  },
  {
   "cell_type": "code",
   "execution_count": null,
   "metadata": {
    "collapsed": true
   },
   "outputs": [],
   "source": [
    "for i, row in df.iterrows():\n",
    "    inschrift = Inschrift.objects.get(id=row['inscription'])\n",
    "    img, _ = Image.objects.get_or_create(\n",
    "        legacy_id=row['image']\n",
    "    )\n",
    "    inschrift.images.add(img)\n",
    "    inschrift.save()"
   ]
  },
  {
   "cell_type": "code",
   "execution_count": null,
   "metadata": {
    "collapsed": true
   },
   "outputs": [],
   "source": [
    "file = None\n",
    "path = None\n",
    "img = None\n",
    "inschrift = None"
   ]
  },
  {
   "cell_type": "code",
   "execution_count": null,
   "metadata": {
    "collapsed": true
   },
   "outputs": [],
   "source": [
    "file = 'legacy_data/images_image.csv'\n",
    "path,_ = ServerPath.objects.get_or_create(name=\"https://brin-iiif.acdh.oeaw.ac.at/\")"
   ]
  },
  {
   "cell_type": "code",
   "execution_count": null,
   "metadata": {
    "collapsed": true
   },
   "outputs": [],
   "source": [
    "df = pd.read_csv(file)"
   ]
  },
  {
   "cell_type": "code",
   "execution_count": null,
   "metadata": {
    "collapsed": true
   },
   "outputs": [],
   "source": [
    "img = None\n",
    "for i, row in df.iterrows():\n",
    "    try:\n",
    "        img = Image.objects.get(legacy_id=row['legacy_id'])\n",
    "    except:\n",
    "        img = None\n",
    "    if img:\n",
    "         img.directory = row['directory']\n",
    "        img.custom_filename = row['custom_filename']\n",
    "        img.file_extension = row['file_extension']\n",
    "        img.save()\n",
    "        img.path=path\n",
    "        img.save()"
   ]
  },
  {
   "cell_type": "code",
   "execution_count": 2,
   "metadata": {
    "collapsed": true
   },
   "outputs": [],
   "source": [
    "file = None\n",
    "path = None\n",
    "img = None\n",
    "inschrift = None"
   ]
  },
  {
   "cell_type": "code",
   "execution_count": 6,
   "metadata": {
    "collapsed": true
   },
   "outputs": [],
   "source": [
    "file = 'legacy_data/places_place.csv'"
   ]
  },
  {
   "cell_type": "code",
   "execution_count": 7,
   "metadata": {},
   "outputs": [
    {
     "data": {
      "text/html": [
       "<div>\n",
       "<style scoped>\n",
       "    .dataframe tbody tr th:only-of-type {\n",
       "        vertical-align: middle;\n",
       "    }\n",
       "\n",
       "    .dataframe tbody tr th {\n",
       "        vertical-align: top;\n",
       "    }\n",
       "\n",
       "    .dataframe thead th {\n",
       "        text-align: right;\n",
       "    }\n",
       "</style>\n",
       "<table border=\"1\" class=\"dataframe\">\n",
       "  <thead>\n",
       "    <tr style=\"text-align: right;\">\n",
       "      <th></th>\n",
       "      <th>legacy_id</th>\n",
       "      <th>name</th>\n",
       "      <th>geonames_id</th>\n",
       "      <th>lat</th>\n",
       "      <th>lng</th>\n",
       "      <th>place_type</th>\n",
       "      <th>part_of</th>\n",
       "    </tr>\n",
       "  </thead>\n",
       "  <tbody>\n",
       "    <tr>\n",
       "      <th>0</th>\n",
       "      <td>1</td>\n",
       "      <td>Brixen</td>\n",
       "      <td>3181550.0</td>\n",
       "      <td>46.715030</td>\n",
       "      <td>11.655980</td>\n",
       "      <td>city</td>\n",
       "      <td>1</td>\n",
       "    </tr>\n",
       "    <tr>\n",
       "      <th>1</th>\n",
       "      <td>2</td>\n",
       "      <td>Dombezirk</td>\n",
       "      <td>NaN</td>\n",
       "      <td>46.716115</td>\n",
       "      <td>11.657610</td>\n",
       "      <td>district</td>\n",
       "      <td>1</td>\n",
       "    </tr>\n",
       "    <tr>\n",
       "      <th>2</th>\n",
       "      <td>3</td>\n",
       "      <td>Pfarrkirche St. Michael</td>\n",
       "      <td>NaN</td>\n",
       "      <td>46.716285</td>\n",
       "      <td>11.657555</td>\n",
       "      <td>building</td>\n",
       "      <td>2</td>\n",
       "    </tr>\n",
       "    <tr>\n",
       "      <th>3</th>\n",
       "      <td>4</td>\n",
       "      <td>Langhaus-Südwand, außen</td>\n",
       "      <td>NaN</td>\n",
       "      <td>46.716290</td>\n",
       "      <td>11.657560</td>\n",
       "      <td>part of building</td>\n",
       "      <td>3</td>\n",
       "    </tr>\n",
       "    <tr>\n",
       "      <th>4</th>\n",
       "      <td>5</td>\n",
       "      <td>Langhaus-Südwand, Portal</td>\n",
       "      <td>NaN</td>\n",
       "      <td>46.716272</td>\n",
       "      <td>11.657466</td>\n",
       "      <td>part of building</td>\n",
       "      <td>3</td>\n",
       "    </tr>\n",
       "  </tbody>\n",
       "</table>\n",
       "</div>"
      ],
      "text/plain": [
       "   legacy_id                      name  geonames_id        lat        lng  \\\n",
       "0          1                    Brixen    3181550.0  46.715030  11.655980   \n",
       "1          2                 Dombezirk          NaN  46.716115  11.657610   \n",
       "2          3   Pfarrkirche St. Michael          NaN  46.716285  11.657555   \n",
       "3          4   Langhaus-Südwand, außen          NaN  46.716290  11.657560   \n",
       "4          5  Langhaus-Südwand, Portal          NaN  46.716272  11.657466   \n",
       "\n",
       "         place_type  part_of  \n",
       "0              city        1  \n",
       "1          district        1  \n",
       "2          building        2  \n",
       "3  part of building        3  \n",
       "4  part of building        3  "
      ]
     },
     "execution_count": 7,
     "metadata": {},
     "output_type": "execute_result"
    }
   ],
   "source": [
    "df = pd.read_csv(file)\n",
    "df.head()"
   ]
  },
  {
   "cell_type": "code",
   "execution_count": 15,
   "metadata": {},
   "outputs": [
    {
     "name": "stdout",
     "output_type": "stream",
     "text": [
      "legacy_id        71\n",
      "name            NaN\n",
      "geonames_id     NaN\n",
      "lat             NaN\n",
      "lng             NaN\n",
      "place_type     city\n",
      "part_of           8\n",
      "Name: 70, dtype: object\n"
     ]
    }
   ],
   "source": [
    "for i, row in df.iterrows():\n",
    "    try:\n",
    "        pl = Place.objects.get(\n",
    "            name=row['name']\n",
    "        )\n",
    "        pl.geonames_id = row['geonames_id']\n",
    "        pl.lat = row['lat']\n",
    "        pl.lng = row['lng']\n",
    "        pl.save()\n",
    "    except:\n",
    "        print(row)"
   ]
  },
  {
   "cell_type": "code",
   "execution_count": null,
   "metadata": {
    "collapsed": true
   },
   "outputs": [],
   "source": []
  }
 ],
 "metadata": {
  "kernelspec": {
   "display_name": "Django Shell-Plus",
   "language": "python",
   "name": "django_extensions"
  },
  "language_info": {
   "codemirror_mode": {
    "name": "ipython",
    "version": 3
   },
   "file_extension": ".py",
   "mimetype": "text/x-python",
   "name": "python",
   "nbconvert_exporter": "python",
   "pygments_lexer": "ipython3",
   "version": "3.5.3"
  }
 },
 "nbformat": 4,
 "nbformat_minor": 2
}
