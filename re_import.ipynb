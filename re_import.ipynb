{
 "cells": [
  {
   "cell_type": "code",
   "execution_count": 1,
   "metadata": {
    "collapsed": true
   },
   "outputs": [],
   "source": [
    "import pandas as pd"
   ]
  },
  {
   "cell_type": "code",
   "execution_count": 2,
   "metadata": {
    "collapsed": true
   },
   "outputs": [],
   "source": [
    "file = 'legacy_data/inscriptions_inschrift_images.csv'"
   ]
  },
  {
   "cell_type": "code",
   "execution_count": 3,
   "metadata": {
    "collapsed": true
   },
   "outputs": [],
   "source": [
    "df = pd.read_csv(file)"
   ]
  },
  {
   "cell_type": "code",
   "execution_count": 4,
   "metadata": {},
   "outputs": [],
   "source": [
    "for i, row in df.iterrows():\n",
    "    inschrift = Inschrift.objects.get(id=row['inscription'])\n",
    "    img, _ = Image.objects.get_or_create(\n",
    "        legacy_id=row['image']\n",
    "    )\n",
    "    inschrift.images.add(img)\n",
    "    inschrift.save()"
   ]
  },
  {
   "cell_type": "code",
   "execution_count": 5,
   "metadata": {
    "collapsed": true
   },
   "outputs": [],
   "source": [
    "file = None\n",
    "path = None\n",
    "img = None\n",
    "inschrift = None"
   ]
  },
  {
   "cell_type": "code",
   "execution_count": 6,
   "metadata": {
    "collapsed": true
   },
   "outputs": [],
   "source": [
    "file = 'legacy_data/images_image.csv'\n",
    "path,_ = ServerPath.objects.get_or_create(name=\"https://brin-iiif.acdh.oeaw.ac.at/\")"
   ]
  },
  {
   "cell_type": "code",
   "execution_count": 7,
   "metadata": {
    "collapsed": true
   },
   "outputs": [],
   "source": [
    "df = pd.read_csv(file)"
   ]
  },
  {
   "cell_type": "code",
   "execution_count": 9,
   "metadata": {},
   "outputs": [],
   "source": [
    "img = None\n",
    "for i, row in df.iterrows():\n",
    "    try:\n",
    "        img = Image.objects.get(legacy_id=row['legacy_id'])\n",
    "    except:\n",
    "        img = None\n",
    "    if img:\n",
    "        img.directory = row['directory']\n",
    "        img.custom_filename = row['custom_filename']\n",
    "        img.file_extension = row['file_extension']\n",
    "        img.save()\n",
    "        img.path=path\n",
    "        img.save()"
   ]
  },
  {
   "cell_type": "code",
   "execution_count": 10,
   "metadata": {
    "collapsed": true
   },
   "outputs": [],
   "source": [
    "file = None\n",
    "path = None\n",
    "img = None\n",
    "inschrift = None"
   ]
  },
  {
   "cell_type": "code",
   "execution_count": 11,
   "metadata": {
    "collapsed": true
   },
   "outputs": [],
   "source": [
    "file = 'legacy_data/places_place.csv'"
   ]
  },
  {
   "cell_type": "code",
   "execution_count": 13,
   "metadata": {},
   "outputs": [],
   "source": [
    "df = pd.read_csv(file)"
   ]
  },
  {
   "cell_type": "code",
   "execution_count": 14,
   "metadata": {},
   "outputs": [
    {
     "name": "stdout",
     "output_type": "stream",
     "text": [
      "legacy_id        71\n",
      "name            NaN\n",
      "geonames_id     NaN\n",
      "lat             NaN\n",
      "lng             NaN\n",
      "place_type     city\n",
      "part_of           8\n",
      "Name: 70, dtype: object\n"
     ]
    }
   ],
   "source": [
    "for i, row in df.iterrows():\n",
    "    try:\n",
    "        pl = Place.objects.get(\n",
    "            name=row['name']\n",
    "        )\n",
    "        pl.geonames_id = row['geonames_id']\n",
    "        pl.lat = row['lat']\n",
    "        pl.lng = row['lng']\n",
    "        pl.save()\n",
    "    except:\n",
    "        print(row)"
   ]
  },
  {
   "cell_type": "code",
   "execution_count": null,
   "metadata": {
    "collapsed": true
   },
   "outputs": [],
   "source": []
  }
 ],
 "metadata": {
  "kernelspec": {
   "display_name": "Django Shell-Plus",
   "language": "python",
   "name": "django_extensions"
  },
  "language_info": {
   "codemirror_mode": {
    "name": "ipython",
    "version": 3
   },
   "file_extension": ".py",
   "mimetype": "text/x-python",
   "name": "python",
   "nbconvert_exporter": "python",
   "pygments_lexer": "ipython3",
   "version": "3.5.3"
  }
 },
 "nbformat": 4,
 "nbformat_minor": 2
}
