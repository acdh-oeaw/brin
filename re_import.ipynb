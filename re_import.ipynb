{
 "cells": [
  {
   "cell_type": "code",
   "execution_count": null,
   "metadata": {
    "collapsed": true
   },
   "outputs": [],
   "source": [
    "import pandas as pd"
   ]
  },
  {
   "cell_type": "code",
   "execution_count": null,
   "metadata": {
    "collapsed": true
   },
   "outputs": [],
   "source": [
    "file = 'legacy_data/inscriptions_inschrift_images.csv'"
   ]
  },
  {
   "cell_type": "code",
   "execution_count": null,
   "metadata": {},
   "outputs": [],
   "source": [
    "df = pd.read_csv(file)"
   ]
  },
  {
   "cell_type": "code",
   "execution_count": null,
   "metadata": {},
   "outputs": [],
   "source": [
    "for i, row in df.iterrows():\n",
    "    inschrift = Inschrift.objects.get(id=row['inscription'])\n",
    "    img, _ = Image.objects.get_or_create(\n",
    "        legacy_id=row['image']\n",
    "    )\n",
    "    inschrift.images.add(img)\n",
    "    inschrift.save()"
   ]
  },
  {
   "cell_type": "code",
   "execution_count": null,
   "metadata": {
    "collapsed": true
   },
   "outputs": [],
   "source": [
    "file = None\n",
    "path = None\n",
    "img = None\n",
    "inschrift = None"
   ]
  },
  {
   "cell_type": "code",
   "execution_count": null,
   "metadata": {},
   "outputs": [],
   "source": [
    "file = 'legacy_data/images_image.csv'\n",
    "path,_ = ServerPath.objects.get_or_create(name=\"https://brin-iiif.acdh.oeaw.ac.at/\")"
   ]
  },
  {
   "cell_type": "code",
   "execution_count": null,
   "metadata": {},
   "outputs": [],
   "source": [
    "df = pd.read_csv(file)"
   ]
  },
  {
   "cell_type": "code",
   "execution_count": null,
   "metadata": {},
   "outputs": [],
   "source": [
    "img = None\n",
    "for i, row in df.iterrows():\n",
    "    try:\n",
    "        img = Image.objects.get(legacy_id=row['legacy_id'])\n",
    "    except:\n",
    "        img = None\n",
    "    if img:\n",
    "         img.directory = row['directory']\n",
    "        img.custom_filename = row['custom_filename']\n",
    "        img.file_extension = row['file_extension']\n",
    "        img.save()\n",
    "        img.path=path\n",
    "        img.save()"
   ]
  }
 ],
 "metadata": {
  "kernelspec": {
   "display_name": "Django Shell-Plus",
   "language": "python",
   "name": "django_extensions"
  },
  "language_info": {
   "codemirror_mode": {
    "name": "ipython",
    "version": 3
   },
   "file_extension": ".py",
   "mimetype": "text/x-python",
   "name": "python",
   "nbconvert_exporter": "python",
   "pygments_lexer": "ipython3",
   "version": "3.5.3"
  }
 },
 "nbformat": 4,
 "nbformat_minor": 2
}
