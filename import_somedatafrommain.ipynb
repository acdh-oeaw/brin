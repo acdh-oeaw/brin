{
 "cells": [
  {
   "cell_type": "code",
   "execution_count": null,
   "metadata": {
    "collapsed": true
   },
   "outputs": [],
   "source": [
    "import csv"
   ]
  },
  {
   "cell_type": "code",
   "execution_count": null,
   "metadata": {
    "collapsed": true
   },
   "outputs": [],
   "source": [
    "def split_numbers(numbers):\n",
    "    numbers = numbers.replace(\" \", \"\")\n",
    "    numbers = numbers.split(\"-\")\n",
    "    numbers = [s for s in numbers if s.isdigit()]\n",
    "    return numbers"
   ]
  },
  {
   "cell_type": "code",
   "execution_count": null,
   "metadata": {
    "collapsed": true
   },
   "outputs": [],
   "source": [
    "file = \"legacy_data/main.csv\""
   ]
  },
  {
   "cell_type": "code",
   "execution_count": null,
   "metadata": {
    "collapsed": true
   },
   "outputs": [],
   "source": [
    "with open(file, encoding='utf-8') as csvfile:\n",
    "    data = [x for x in csv.reader(csvfile, delimiter=',') if not x[2].startswith(\"0000\", 0, 4)]"
   ]
  },
  {
   "cell_type": "code",
   "execution_count": null,
   "metadata": {},
   "outputs": [],
   "source": [
    "persons = []\n",
    "for x in data[1:]:\n",
    "    if x[21].strip() != \"\":\n",
    "        names = x[21].split(\";\")\n",
    "        jobs = x[22].split(\";\")\n",
    "        person = {}\n",
    "        person[\"inscription\"] = x[0]\n",
    "        i = 0\n",
    "        for y in names:\n",
    "            person[\"name\"] = y\n",
    "            try:\n",
    "                person[\"job\"] = jobs[i]\n",
    "            except:\n",
    "                person[\"job\"] = \"\"\n",
    "            i +=1\n",
    "            persons.append(person)\n",
    "\n",
    "            \n",
    "print(len(persons))"
   ]
  },
  {
   "cell_type": "code",
   "execution_count": null,
   "metadata": {
    "collapsed": true
   },
   "outputs": [],
   "source": [
    "persons = [x for x in persons if x[\"name\"] != '']"
   ]
  },
  {
   "cell_type": "code",
   "execution_count": null,
   "metadata": {
    "collapsed": true
   },
   "outputs": [],
   "source": [
    "for x in persons:\n",
    "    temp_pers, _ = Person.objects.get_or_create(name = x[\"name\"].strip())\n",
    "    temp_pers.titel_grad_beruf = x[\"job\"]\n",
    "    temp_pers.save()\n",
    "    try:\n",
    "        temp_ins = Inschrift.objects.get(legacy_id=x[\"inscription\"])\n",
    "        temp_ins.kennname.add(temp_pers)\n",
    "        temp_ins.save()\n",
    "    except:\n",
    "        pass\n",
    "    "
   ]
  },
  {
   "cell_type": "code",
   "execution_count": null,
   "metadata": {
    "collapsed": true
   },
   "outputs": [],
   "source": [
    "for x in data[1:]:\n",
    "    temp_ins, _ = Inschrift.objects.get_or_create(legacy_id=x[0])\n",
    "    temp_place, _ = Place.objects.get_or_create(name=x[4].strip())\n",
    "    temp_place.place_type = \"city\"\n",
    "    temp_place.save()\n",
    "    temp_district, _ = Place.objects.get_or_create(name=x[5].strip())\n",
    "    temp_district.place_type = \"city\"\n",
    "    temp_district.part_of = temp_place\n",
    "    temp_district.save()\n",
    "    temp_building, _ = Place.objects.get_or_create(name=x[6].strip())\n",
    "    temp_building.place_type = \"city\"\n",
    "    temp_building.part_of = temp_district\n",
    "    temp_building.save()\n",
    "    temp_building1, _ = Place.objects.get_or_create(name=x[7].strip())\n",
    "    temp_building1.place_type = \"city\"\n",
    "    temp_building1.part_of = temp_building\n",
    "    temp_building1.save()\n",
    "    temp_ins.genauer_standort = temp_building1\n",
    "    temp_ins.alter_standort = x[8].strip()\n",
    "    temp_ins.save()"
   ]
  },
  {
   "cell_type": "code",
   "execution_count": null,
   "metadata": {},
   "outputs": [],
   "source": [
    "for x in data[1:]:\n",
    "    temp_ins, _ = Inschrift.objects.get_or_create(legacy_id=x[0])\n",
    "    for y in x[9].split(\";\"):\n",
    "        temp_scheme, _ = SkosConceptScheme.objects.get_or_create(dc_title=\"gattung\")\n",
    "        temp_scheme.save()\n",
    "        temp_concept, _ = SkosConcept.objects.get_or_create(pref_label=y)\n",
    "        temp_concept.save()\n",
    "        temp_concept.scheme.add(temp_scheme)\n",
    "        temp_ins.gattung.add(temp_concept)\n",
    "    for y in x[10].split(\";\"):\n",
    "        temp_scheme, _ = SkosConceptScheme.objects.get_or_create(dc_title=\"traeger\")\n",
    "        temp_scheme.save()\n",
    "        temp_concept, _ = SkosConcept.objects.get_or_create(pref_label=y)\n",
    "        temp_concept.save()\n",
    "        temp_concept.scheme.add(temp_scheme)\n",
    "        temp_ins.traeger.add(temp_concept)\n",
    "    for y in x[38].split(\";\"):\n",
    "        temp_scheme, _ = SkosConceptScheme.objects.get_or_create(dc_title=\"schlagworte\")\n",
    "        temp_scheme.save()\n",
    "        temp_concept, _ = SkosConcept.objects.get_or_create(pref_label=y)\n",
    "        temp_concept.save()\n",
    "        temp_concept.scheme.add(temp_scheme)\n",
    "        temp_ins.schlagworte.add(temp_concept)\n",
    "    for y in x[42].split(\";\"):\n",
    "        temp_scheme, _ = SkosConceptScheme.objects.get_or_create(dc_title=\"schriftklassifikation\")\n",
    "        temp_scheme.save()\n",
    "        temp_concept, _ = SkosConcept.objects.get_or_create(pref_label=y)\n",
    "        temp_concept.save()\n",
    "        temp_concept.scheme.add(temp_scheme)\n",
    "        temp_ins.schlagworte.add(temp_concept)\n",
    "        \n",
    "    temp_ins.farbtraeger = x[17]\n",
    "    temp_ins.farbschrift = x[18]\n",
    "    temp_ins.erhaltungszustand = x[19]\n",
    "    temp_ins.transkription = x[20]\n",
    "    temp_ins.transkription_normalized = x[35]\n",
    "    temp_ins.resch_kopial_signatur = x[24]\n",
    "    temp_ins.resch_kopial_text = x[25]\n",
    "    temp_ins.andere_kopial_signatur = x[26]\n",
    "    temp_ins.anderer_kopial_text = x[27]\n",
    "    temp_ins.notizen = x[28]\n",
    "    temp_ins.bemerkungen = x[29]\n",
    "    temp_ins.quellen_unstruktieriert = x[30]\n",
    "    temp_ins.restaurierungsphasen = x[39]\n",
    "    temp_ins.allgemeine_beschreibung = x[40]\n",
    "    temp_ins.schriftbeschreibung = x[41]\n",
    "    temp_ins.museale_inv_nummer = x[1]\n",
    "    temp_ins.datierung_inschrift_written = x[3]\n",
    "    try:\n",
    "        temp_ins.aufnahmedatum = x[2]\n",
    "    except:\n",
    "        print(x[2])\n",
    "    try:\n",
    "        temp_ins.created = x[31]\n",
    "    except:\n",
    "        print(x[31])\n",
    "    if len(split_numbers(x[11])) == 2:\n",
    "        temp_ins.schrift_hoch_min = split_numbers(x[11])[0]\n",
    "        temp_ins.schrift_hoch_max = split_numbers(x[11])[1]\n",
    "    elif len(split_numbers(x[11])) == 1:\n",
    "        temp_ins.schrift_hoch_min = split_numbers(x[11])[0]\n",
    "        temp_ins.schrift_hoch_max = split_numbers(x[11])[0]\n",
    "    else:\n",
    "        pass\n",
    "    if len(split_numbers(x[12])) == 2:\n",
    "        temp_ins.schrift_breit_min = split_numbers(x[12])[0]\n",
    "        temp_ins.schrift_breit_max = split_numbers(x[12])[1]\n",
    "    elif len(split_numbers(x[12])) == 1:\n",
    "        temp_ins.schrift_breit_min = split_numbers(x[12])[0]\n",
    "        temp_ins.schrift_breit_max = split_numbers(x[12])[0]\n",
    "    else:\n",
    "        pass\n",
    "    if len(split_numbers(x[13])) == 2:\n",
    "        temp_ins.majuskel_min = split_numbers(x[13])[0]\n",
    "        temp_ins.majuskel_max = split_numbers(x[13])[1]\n",
    "    elif len(split_numbers(x[13])) == 1:\n",
    "        temp_ins.majuskel_min = split_numbers(x[13])[0]\n",
    "        temp_ins.majuskel_max = split_numbers(x[13])[0]\n",
    "    else:\n",
    "        pass\n",
    "    if len(split_numbers(x[14])) == 2:\n",
    "        temp_ins.minuskel_min = split_numbers(x[14])[0]\n",
    "        temp_ins.minuskel_max = split_numbers(x[14])[1]\n",
    "    elif len(split_numbers(x[14])) == 1:\n",
    "        temp_ins.minuskel_min = split_numbers(x[14])[0]\n",
    "        temp_ins.minuskel_max = split_numbers(x[14])[0]\n",
    "    else:\n",
    "        pass\n",
    "    if len(split_numbers(x[15])) == 2:\n",
    "        temp_ins.mittellaenge_min = split_numbers(x[15])[0]\n",
    "        temp_ins.mittellaenge_max = split_numbers(x[15])[1]\n",
    "    elif len(split_numbers(x[15])) == 1:\n",
    "        temp_ins.mittellaenge_min = split_numbers(x[15])[0]\n",
    "        temp_ins.mittellaenge_max = split_numbers(x[15])[0]\n",
    "    else:\n",
    "        pass\n",
    "    if len(split_numbers(x[16])) == 2:\n",
    "        temp_ins.oberlaenge_min = split_numbers(x[16])[0]\n",
    "        temp_ins.oberlaenge_max = split_numbers(x[16])[1]\n",
    "    elif len(split_numbers(x[16])) == 1:\n",
    "        temp_ins.oberlaenge_min = split_numbers(x[16])[0]\n",
    "        temp_ins.oberlaenge_max = split_numbers(x[16])[0]\n",
    "    else:\n",
    "        pass\n",
    "    temp_ins.save()"
   ]
  },
  {
   "cell_type": "code",
   "execution_count": null,
   "metadata": {
    "collapsed": true
   },
   "outputs": [],
   "source": []
  }
 ],
 "metadata": {
  "kernelspec": {
   "display_name": "Django Shell-Plus",
   "language": "python",
   "name": "django_extensions"
  },
  "language_info": {
   "codemirror_mode": {
    "name": "ipython",
    "version": 3
   },
   "file_extension": ".py",
   "mimetype": "text/x-python",
   "name": "python",
   "nbconvert_exporter": "python",
   "pygments_lexer": "ipython3",
   "version": "3.5.3"
  }
 },
 "nbformat": 4,
 "nbformat_minor": 2
}
